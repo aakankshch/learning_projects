{
  "nbformat": 4,
  "nbformat_minor": 0,
  "metadata": {
    "colab": {
      "provenance": [],
      "include_colab_link": true
    },
    "kernelspec": {
      "name": "python3",
      "display_name": "Python 3"
    },
    "language_info": {
      "name": "python"
    },
    "accelerator": "GPU"
  },
  "cells": [
    {
      "cell_type": "markdown",
      "metadata": {
        "id": "view-in-github",
        "colab_type": "text"
      },
      "source": [
        "<a href=\"https://colab.research.google.com/github/aakankshch/deeplearning/blob/main/CNN_Cifar10.ipynb\" target=\"_parent\"><img src=\"https://colab.research.google.com/assets/colab-badge.svg\" alt=\"Open In Colab\"/></a>"
      ]
    },
    {
      "cell_type": "markdown",
      "metadata": {
        "id": "63GSckRspoZJ"
      },
      "source": [
        "# Convolutional neural network with Keras\n",
        "\n",
        "In this notebook, we will train and test a CNN model on the CIFAR10 dataset using Keras."
      ]
    },
    {
      "cell_type": "markdown",
      "metadata": {
        "id": "8aieNmVBO2II"
      },
      "source": [
        "## 1. Load dataset\n",
        "\n",
        "The following code snippet will download the data, load it into memory, and convert pixel values to [0, 1]."
      ]
    },
    {
      "cell_type": "code",
      "source": [
        "import matplotlib.pyplot as plt\n",
        "\n",
        "import keras\n",
        "from keras.datasets import cifar10"
      ],
      "metadata": {
        "id": "KR4h8X6LpeoM"
      },
      "execution_count": null,
      "outputs": []
    },
    {
      "cell_type": "code",
      "metadata": {
        "id": "N8WM9P0lLYas",
        "colab": {
          "base_uri": "https://localhost:8080/"
        },
        "outputId": "e9ca0981-40b6-4017-8ba1-3d2688a5cf42"
      },
      "source": [
        "(X_train, Y_train), (X_test, Y_test) = cifar10.load_data()\n",
        "X_train = X_train.astype('float32') / 255\n",
        "X_test = X_test.astype('float32') / 255\n",
        "\n",
        "print(X_train.shape, Y_train.shape)\n",
        "print(X_test.shape, Y_test.shape)\n",
        "print(X_train[0].shape, Y_train[0].shape)"
      ],
      "execution_count": null,
      "outputs": [
        {
          "output_type": "stream",
          "name": "stdout",
          "text": [
            "Downloading data from https://www.cs.toronto.edu/~kriz/cifar-10-python.tar.gz\n",
            "170498071/170498071 [==============================] - 13s 0us/step\n",
            "(50000, 32, 32, 3) (50000, 1)\n",
            "(10000, 32, 32, 3) (10000, 1)\n",
            "(32, 32, 3) (1,)\n"
          ]
        }
      ]
    },
    {
      "cell_type": "code",
      "source": [
        "Y_train"
      ],
      "metadata": {
        "colab": {
          "base_uri": "https://localhost:8080/"
        },
        "id": "PWyOGdTVbsSk",
        "outputId": "bb31099b-78ed-46fe-bcd7-f1bd8328dae4"
      },
      "execution_count": null,
      "outputs": [
        {
          "output_type": "execute_result",
          "data": {
            "text/plain": [
              "array([[6],\n",
              "       [9],\n",
              "       [9],\n",
              "       ...,\n",
              "       [9],\n",
              "       [1],\n",
              "       [1]], dtype=uint8)"
            ]
          },
          "metadata": {},
          "execution_count": 3
        }
      ]
    },
    {
      "cell_type": "code",
      "source": [
        "plt.imshow(X_train[4])"
      ],
      "metadata": {
        "colab": {
          "base_uri": "https://localhost:8080/",
          "height": 430
        },
        "id": "4q-pw9aXp6LG",
        "outputId": "91687e14-61f5-4b32-dadb-d1ba1cda70e0"
      },
      "execution_count": null,
      "outputs": [
        {
          "output_type": "display_data",
          "data": {
            "text/plain": [
              "<Figure size 640x480 with 1 Axes>"
            ],
            "image/png": "[encoded data removed]"
          },
          "metadata": {}
        }
      ]
    },
    {
      "cell_type": "markdown",
      "metadata": {
        "id": "3myKOyEtiAfy"
      },
      "source": [
        "## 2. Show a few training examples and its label"
      ]
    },
    {
      "cell_type": "code",
      "metadata": {
        "id": "7NvcF5oziEos",
        "colab": {
          "base_uri": "https://localhost:8080/",
          "height": 447
        },
        "outputId": "b05fcd30-2637-4a23-a2ab-f2969ab2f705"
      },
      "source": [
        "# List of label strings for CIFAR10\n",
        "label_str = ['airplane', 'automobile', 'bird', 'cat', 'deer', 'dog', 'frog', 'horse', 'ship', 'truck']\n",
        "#label_str we can get from keras cifar10 dataset\n",
        "\n",
        "img_id = 3\n",
        "image = X_train[img_id]\n",
        "label = Y_train[img_id]\n",
        "\n",
        "plt.imshow(image)\n",
        "plt.show()\n",
        "print(label_str[label[0]])"
      ],
      "execution_count": null,
      "outputs": [
        {
          "output_type": "display_data",
          "data": {
            "text/plain": [
              "<Figure size 640x480 with 1 Axes>"
            ],
            "image/png": "[encoded data removed]"
          },
          "metadata": {}
        },
        {
          "output_type": "stream",
          "name": "stdout",
          "text": [
            "deer\n"
          ]
        }
      ]
    },
    {
      "cell_type": "markdown",
      "metadata": {
        "id": "8QWJNivcjh-u"
      },
      "source": [
        "## 3. Convert label vectors into one-hot encodings"
      ]
    },
    {
      "cell_type": "code",
      "metadata": {
        "id": "Q-BZ2Yy_jlTP"
      },
      "source": [
        "num_classes=10\n",
        "Y_train = keras.utils.to_categorical(Y_train, num_classes)\n",
        "Y_test = keras.utils.to_categorical(Y_test, num_classes)"
      ],
      "execution_count": null,
      "outputs": []
    },
    {
      "cell_type": "code",
      "source": [
        "Y_train"
      ],
      "metadata": {
        "colab": {
          "base_uri": "https://localhost:8080/"
        },
        "id": "uFTUKyCyrv2B",
        "outputId": "c95ebbc9-21e0-4231-acf2-23492291346f"
      },
      "execution_count": null,
      "outputs": [
        {
          "output_type": "execute_result",
          "data": {
            "text/plain": [
              "array([[0., 0., 0., ..., 0., 0., 0.],\n",
              "       [0., 0., 0., ..., 0., 0., 1.],\n",
              "       [0., 0., 0., ..., 0., 0., 1.],\n",
              "       ...,\n",
              "       [0., 0., 0., ..., 0., 0., 1.],\n",
              "       [0., 1., 0., ..., 0., 0., 0.],\n",
              "       [0., 1., 0., ..., 0., 0., 0.]], dtype=float32)"
            ]
          },
          "metadata": {},
          "execution_count": 22
        }
      ]
    },
    {
      "cell_type": "markdown",
      "metadata": {
        "id": "gm7gkMbpjuUh"
      },
      "source": [
        "## 4. Define the CNN model\n",
        "\n",
        "We can add convolutional layers using the Conv2D class and max pooling layer using the MaxPooling2D class. So this CNN model contains:\n",
        "*   2 convolutional layers (each with 32 3x3 filters)\n",
        "*   1 max pooling layer with a 2x2 filter\n",
        "*   The resulting tensor is flattened into a vector\n",
        "*   The flattened vector is put through an MLP with 1 hidden layer (128 hidden nodes)\n",
        "\n"
      ]
    },
    {
      "cell_type": "code",
      "source": [
        "from keras.models import Sequential\n",
        "from keras.layers import Conv2D\n",
        "from keras.layers import MaxPooling2D\n",
        "from keras.layers import Flatten\n",
        "from keras.layers import Dense"
      ],
      "metadata": {
        "id": "3PDTMUA_vojq"
      },
      "execution_count": null,
      "outputs": []
    },
    {
      "cell_type": "code",
      "metadata": {
        "id": "4RB9aJy0ju59"
      },
      "source": [
        "model = Sequential()\n",
        "model.add(Conv2D(32, kernel_size =(3, 3), input_shape=(32, 32, 3),activation='relu'))\n",
        "model.add(Conv2D(32, kernel_size =(3, 3),activation='relu'))\n",
        "model.add(MaxPooling2D(pool_size=(2,2)))\n",
        "model.add(Flatten())\n",
        "model.add(Dense(128, activation='relu'))\n",
        "model.add(Dense(10,activation='softmax'))  #Activation is softmax when there are multiple outputs"
      ],
      "execution_count": null,
      "outputs": []
    },
    {
      "cell_type": "code",
      "source": [
        "model.summary()"
      ],
      "metadata": {
        "colab": {
          "base_uri": "https://localhost:8080/"
        },
        "id": "atotCfZIunKs",
        "outputId": "024675a3-b0ca-492f-9089-3bca35819d00"
      },
      "execution_count": null,
      "outputs": [
        {
          "output_type": "stream",
          "name": "stdout",
          "text": [
            "Model: \"sequential_1\"\n",
            "_________________________________________________________________\n",
            " Layer (type)                Output Shape              Param #   \n",
            "=================================================================\n",
            " conv2d_2 (Conv2D)           (None, 30, 30, 32)        896       \n",
            "                                                                 \n",
            " conv2d_3 (Conv2D)           (None, 28, 28, 32)        9248      \n",
            "                                                                 \n",
            " max_pooling2d_1 (MaxPoolin  (None, 14, 14, 32)        0         \n",
            " g2D)                                                            \n",
            "                                                                 \n",
            " flatten_1 (Flatten)         (None, 6272)              0         \n",
            "                                                                 \n",
            " dense_2 (Dense)             (None, 128)               802944    \n",
            "                                                                 \n",
            " dense_3 (Dense)             (None, 10)                1290      \n",
            "                                                                 \n",
            "=================================================================\n",
            "Total params: 814378 (3.11 MB)\n",
            "Trainable params: 814378 (3.11 MB)\n",
            "Non-trainable params: 0 (0.00 Byte)\n",
            "_________________________________________________________________\n"
          ]
        }
      ]
    },
    {
      "cell_type": "markdown",
      "metadata": {
        "id": "-DdumpAjlrC-"
      },
      "source": [
        "## 5. Compile the model"
      ]
    },
    {
      "cell_type": "code",
      "source": [
        "model.compile(loss=\"categorical_crossentropy\", optimizer=\"adam\", metrics=[\"accuracy\"])"
      ],
      "metadata": {
        "id": "8iGLmTe_uqU0"
      },
      "execution_count": null,
      "outputs": []
    },
    {
      "cell_type": "markdown",
      "metadata": {
        "id": "aNEsQIi-luh2"
      },
      "source": [
        "## 6. Train the model"
      ]
    },
    {
      "cell_type": "code",
      "metadata": {
        "id": "m4rqyov4kK_K",
        "colab": {
          "base_uri": "https://localhost:8080/"
        },
        "outputId": "13f5f450-1d6f-43e9-e59e-57f04ecb0e60"
      },
      "source": [
        "batch_size = 128\n",
        "epochs = 15\n",
        "model.fit(X_train, Y_train, batch_size=batch_size, epochs=epochs, validation_split=0.1)"
      ],
      "execution_count": null,
      "outputs": [
        {
          "output_type": "stream",
          "name": "stdout",
          "text": [
            "Epoch 1/15\n",
            "352/352 [==============================] - 5s 9ms/step - loss: 1.4755 - accuracy: 0.4761 - val_loss: 1.2159 - val_accuracy: 0.5824\n",
            "Epoch 2/15\n",
            "352/352 [==============================] - 3s 8ms/step - loss: 1.1062 - accuracy: 0.6114 - val_loss: 1.0636 - val_accuracy: 0.6364\n",
            "Epoch 3/15\n",
            "352/352 [==============================] - 3s 7ms/step - loss: 0.9647 - accuracy: 0.6639 - val_loss: 0.9810 - val_accuracy: 0.6644\n",
            "Epoch 4/15\n",
            "352/352 [==============================] - 3s 7ms/step - loss: 0.8719 - accuracy: 0.6981 - val_loss: 0.9550 - val_accuracy: 0.6750\n",
            "Epoch 5/15\n",
            "352/352 [==============================] - 3s 7ms/step - loss: 0.8058 - accuracy: 0.7211 - val_loss: 0.9098 - val_accuracy: 0.6948\n",
            "Epoch 6/15\n",
            "352/352 [==============================] - 3s 8ms/step - loss: 0.7276 - accuracy: 0.7481 - val_loss: 0.9306 - val_accuracy: 0.6840\n",
            "Epoch 7/15\n",
            "352/352 [==============================] - 3s 8ms/step - loss: 0.6675 - accuracy: 0.7682 - val_loss: 0.9027 - val_accuracy: 0.7032\n",
            "Epoch 8/15\n",
            "352/352 [==============================] - 3s 7ms/step - loss: 0.5989 - accuracy: 0.7948 - val_loss: 0.9057 - val_accuracy: 0.7032\n",
            "Epoch 9/15\n",
            "352/352 [==============================] - 3s 7ms/step - loss: 0.5293 - accuracy: 0.8181 - val_loss: 0.9442 - val_accuracy: 0.6992\n",
            "Epoch 10/15\n",
            "352/352 [==============================] - 3s 7ms/step - loss: 0.4645 - accuracy: 0.8405 - val_loss: 1.0079 - val_accuracy: 0.6858\n",
            "Epoch 11/15\n",
            "352/352 [==============================] - 3s 8ms/step - loss: 0.3972 - accuracy: 0.8632 - val_loss: 1.0481 - val_accuracy: 0.6872\n",
            "Epoch 12/15\n",
            "352/352 [==============================] - 3s 8ms/step - loss: 0.3366 - accuracy: 0.8859 - val_loss: 1.1324 - val_accuracy: 0.6842\n",
            "Epoch 13/15\n",
            "352/352 [==============================] - 3s 7ms/step - loss: 0.2849 - accuracy: 0.9051 - val_loss: 1.1896 - val_accuracy: 0.6842\n",
            "Epoch 14/15\n",
            "352/352 [==============================] - 3s 7ms/step - loss: 0.2331 - accuracy: 0.9231 - val_loss: 1.2887 - val_accuracy: 0.6814\n",
            "Epoch 15/15\n",
            "352/352 [==============================] - 3s 7ms/step - loss: 0.1789 - accuracy: 0.9426 - val_loss: 1.3875 - val_accuracy: 0.6764\n"
          ]
        },
        {
          "output_type": "execute_result",
          "data": {
            "text/plain": [
              "<keras.src.callbacks.History at 0x7dd679966ec0>"
            ]
          },
          "metadata": {},
          "execution_count": 39
        }
      ]
    },
    {
      "cell_type": "markdown",
      "metadata": {
        "id": "UGshOAWKlxif"
      },
      "source": [
        "## 7. Evaluate the trained model on test set"
      ]
    },
    {
      "cell_type": "code",
      "metadata": {
        "id": "8hT_J7OKkPde",
        "colab": {
          "base_uri": "https://localhost:8080/"
        },
        "outputId": "5b3ac267-d44f-4d3f-f357-17ffb33c1961"
      },
      "source": [
        "test_loss, test_accuracy = model.evaluate(X_test, Y_test)\n",
        "test_accuracy"
      ],
      "execution_count": null,
      "outputs": [
        {
          "output_type": "stream",
          "name": "stdout",
          "text": [
            "313/313 [==============================] - 1s 3ms/step - loss: 1.4882 - accuracy: 0.6625\n"
          ]
        },
        {
          "output_type": "execute_result",
          "data": {
            "text/plain": [
              "0.6625000238418579"
            ]
          },
          "metadata": {},
          "execution_count": 40
        }
      ]
    }
  ]
}