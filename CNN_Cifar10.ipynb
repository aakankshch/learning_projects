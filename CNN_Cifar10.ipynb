{
  "nbformat": 4,
  "nbformat_minor": 0,
  "metadata": {
    "colab": {
      "provenance": [],
      "include_colab_link": true
    },
    "kernelspec": {
      "name": "python3",
      "display_name": "Python 3"
    },
    "language_info": {
      "name": "python"
    },
    "accelerator": "GPU"
  },
  "cells": [
    {
      "cell_type": "markdown",
      "metadata": {
        "id": "view-in-github",
        "colab_type": "text"
      },
      "source": [
        "<a href=\"https://colab.research.google.com/github/aakankshch/deeplearning/blob/main/CNN_Cifar10.ipynb\" target=\"_parent\"><img src=\"https://colab.research.google.com/assets/colab-badge.svg\" alt=\"Open In Colab\"/></a>"
      ]
    },
    {
      "cell_type": "markdown",
      "metadata": {
        "id": "63GSckRspoZJ"
      },
      "source": [
        "# Convolutional Neural Network model for CIFAR10 Dataset\n",
        "\n"
      ]
    },
    {
      "cell_type": "code",
      "source": [
        "#Importing the libraries\n",
        "import numpy as np\n",
        "import pandas as pd\n",
        "import matplotlib.pyplot as plt\n",
        "import keras\n",
        "from keras.datasets import cifar10"
      ],
      "metadata": {
        "id": "KR4h8X6LpeoM"
      },
      "execution_count": 35,
      "outputs": []
    },
    {
      "cell_type": "code",
      "metadata": {
        "id": "N8WM9P0lLYas"
      },
      "source": [
        "#Loading the dataset and converting the pixel values\n",
        "(X_train, Y_train), (X_test, Y_test) = cifar10.load_data()\n",
        "X_train = X_train.astype('float32') / 255\n",
        "X_test = X_test.astype('float32') / 255"
      ],
      "execution_count": 4,
      "outputs": []
    },
    {
      "cell_type": "code",
      "source": [
        "print(f'Dimension of X_train : {X_train.ndim}')\n",
        "print(f'Shape of X_train : {X_train.shape}')\n",
        "print(f'Shape of X_test : {X_test.shape}')\n",
        "print(f'Shape of y_train : {Y_train.shape}')\n",
        "print(f'Shape of y_test : {Y_test.shape}')\n",
        "print(f'Shape of 1st image: {X_train[0].shape}, {Y_train[0].shape}')"
      ],
      "metadata": {
        "colab": {
          "base_uri": "https://localhost:8080/"
        },
        "id": "hY5NRj8SMPWl",
        "outputId": "53b836a0-20fb-4e0d-8c88-95dc240a694d"
      },
      "execution_count": 8,
      "outputs": [
        {
          "output_type": "stream",
          "name": "stdout",
          "text": [
            "Dimension of X_train : 4\n",
            "Shape of X_train : (50000, 32, 32, 3)\n",
            "Shape of X_test : (10000, 32, 32, 3)\n",
            "Shape of y_train : (50000, 1)\n",
            "Shape of y_test : (10000, 1)\n",
            "Shape of 1st image: (32, 32, 3), (1,)\n"
          ]
        }
      ]
    },
    {
      "cell_type": "markdown",
      "source": [
        "**We have 50000 of training images and 10000 of test images**"
      ],
      "metadata": {
        "id": "GB6okeoKMycR"
      }
    },
    {
      "cell_type": "code",
      "source": [
        "X_train[0]"
      ],
      "metadata": {
        "colab": {
          "base_uri": "https://localhost:8080/"
        },
        "id": "J7HPeiB1M8F4",
        "outputId": "a4865473-35f9-45a6-a5b2-580f1afbd487"
      },
      "execution_count": 14,
      "outputs": [
        {
          "output_type": "execute_result",
          "data": {
            "text/plain": [
              "array([[[0.23137255, 0.24313726, 0.24705882],\n",
              "        [0.16862746, 0.18039216, 0.1764706 ],\n",
              "        [0.19607843, 0.1882353 , 0.16862746],\n",
              "        ...,\n",
              "        [0.61960787, 0.5176471 , 0.42352942],\n",
              "        [0.59607846, 0.49019608, 0.4       ],\n",
              "        [0.5803922 , 0.4862745 , 0.40392157]],\n",
              "\n",
              "       [[0.0627451 , 0.07843138, 0.07843138],\n",
              "        [0.        , 0.        , 0.        ],\n",
              "        [0.07058824, 0.03137255, 0.        ],\n",
              "        ...,\n",
              "        [0.48235294, 0.34509805, 0.21568628],\n",
              "        [0.46666667, 0.3254902 , 0.19607843],\n",
              "        [0.47843137, 0.34117648, 0.22352941]],\n",
              "\n",
              "       [[0.09803922, 0.09411765, 0.08235294],\n",
              "        [0.0627451 , 0.02745098, 0.        ],\n",
              "        [0.19215687, 0.10588235, 0.03137255],\n",
              "        ...,\n",
              "        [0.4627451 , 0.32941177, 0.19607843],\n",
              "        [0.47058824, 0.32941177, 0.19607843],\n",
              "        [0.42745098, 0.28627452, 0.16470589]],\n",
              "\n",
              "       ...,\n",
              "\n",
              "       [[0.8156863 , 0.6666667 , 0.3764706 ],\n",
              "        [0.7882353 , 0.6       , 0.13333334],\n",
              "        [0.7764706 , 0.6313726 , 0.10196079],\n",
              "        ...,\n",
              "        [0.627451  , 0.52156866, 0.27450982],\n",
              "        [0.21960784, 0.12156863, 0.02745098],\n",
              "        [0.20784314, 0.13333334, 0.07843138]],\n",
              "\n",
              "       [[0.7058824 , 0.54509807, 0.3764706 ],\n",
              "        [0.6784314 , 0.48235294, 0.16470589],\n",
              "        [0.7294118 , 0.5647059 , 0.11764706],\n",
              "        ...,\n",
              "        [0.72156864, 0.5803922 , 0.36862746],\n",
              "        [0.38039216, 0.24313726, 0.13333334],\n",
              "        [0.3254902 , 0.20784314, 0.13333334]],\n",
              "\n",
              "       [[0.69411767, 0.5647059 , 0.45490196],\n",
              "        [0.65882355, 0.5058824 , 0.36862746],\n",
              "        [0.7019608 , 0.5568628 , 0.34117648],\n",
              "        ...,\n",
              "        [0.84705883, 0.72156864, 0.54901963],\n",
              "        [0.5921569 , 0.4627451 , 0.32941177],\n",
              "        [0.48235294, 0.36078432, 0.28235295]]], dtype=float32)"
            ]
          },
          "metadata": {},
          "execution_count": 14
        }
      ]
    },
    {
      "cell_type": "code",
      "source": [
        "Y_train"
      ],
      "metadata": {
        "colab": {
          "base_uri": "https://localhost:8080/"
        },
        "id": "PWyOGdTVbsSk",
        "outputId": "eb6008a6-e405-4d3e-80b0-de60b1a64e3a"
      },
      "execution_count": 13,
      "outputs": [
        {
          "output_type": "execute_result",
          "data": {
            "text/plain": [
              "array([[6],\n",
              "       [9],\n",
              "       [9],\n",
              "       ...,\n",
              "       [9],\n",
              "       [1],\n",
              "       [1]], dtype=uint8)"
            ]
          },
          "metadata": {},
          "execution_count": 13
        }
      ]
    },
    {
      "cell_type": "code",
      "source": [
        "#Displaying the image\n",
        "plt.imshow(X_train[3])"
      ],
      "metadata": {
        "colab": {
          "base_uri": "https://localhost:8080/",
          "height": 447
        },
        "id": "4q-pw9aXp6LG",
        "outputId": "9c0e87f4-7a1e-4973-8994-eaa6dca81c72"
      },
      "execution_count": 20,
      "outputs": [
        {
          "output_type": "execute_result",
          "data": {
            "text/plain": [
              "<matplotlib.image.AxesImage at 0x7d2ef4fced10>"
            ]
          },
          "metadata": {},
          "execution_count": 20
        },
        {
          "output_type": "display_data",
          "data": {
            "text/plain": [
              "<Figure size 640x480 with 1 Axes>"
            ],
            "image/png": "[encoded data removed]"
          },
          "metadata": {}
        }
      ]
    },
    {
      "cell_type": "code",
      "metadata": {
        "id": "7NvcF5oziEos",
        "colab": {
          "base_uri": "https://localhost:8080/",
          "height": 447
        },
        "outputId": "f7897a61-cc60-4d23-94db-99aa6f77132c"
      },
      "source": [
        "# List of label strings for CIFAR10\n",
        "label_str = ['airplane', 'automobile', 'bird', 'cat', 'deer', 'dog', 'frog', 'horse', 'ship', 'truck']\n",
        "#label_str we can get from keras cifar10 dataset\n",
        "\n",
        "img_id = 3\n",
        "image = X_train[img_id]\n",
        "label = Y_train[img_id]\n",
        "\n",
        "plt.imshow(image)\n",
        "plt.show()\n",
        "print(label_str[label[0]])"
      ],
      "execution_count": 18,
      "outputs": [
        {
          "output_type": "display_data",
          "data": {
            "text/plain": [
              "<Figure size 640x480 with 1 Axes>"
            ],
            "image/png": "[encoded data removed]"
          },
          "metadata": {}
        },
        {
          "output_type": "stream",
          "name": "stdout",
          "text": [
            "deer\n"
          ]
        }
      ]
    },
    {
      "cell_type": "code",
      "metadata": {
        "id": "Q-BZ2Yy_jlTP"
      },
      "source": [
        "#Converting categorical variables using One Hot Encoding\n",
        "num_classes=10\n",
        "Y_train = keras.utils.to_categorical(Y_train, num_classes)\n",
        "Y_test = keras.utils.to_categorical(Y_test, num_classes)"
      ],
      "execution_count": 26,
      "outputs": []
    },
    {
      "cell_type": "code",
      "source": [
        "Y_train"
      ],
      "metadata": {
        "colab": {
          "base_uri": "https://localhost:8080/"
        },
        "id": "uFTUKyCyrv2B",
        "outputId": "e262facd-00b3-46da-cd6f-75e333ea2638"
      },
      "execution_count": 27,
      "outputs": [
        {
          "output_type": "execute_result",
          "data": {
            "text/plain": [
              "array([[0., 0., 0., ..., 0., 0., 0.],\n",
              "       [0., 0., 0., ..., 0., 0., 1.],\n",
              "       [0., 0., 0., ..., 0., 0., 1.],\n",
              "       ...,\n",
              "       [0., 0., 0., ..., 0., 0., 1.],\n",
              "       [0., 1., 0., ..., 0., 0., 0.],\n",
              "       [0., 1., 0., ..., 0., 0., 0.]], dtype=float32)"
            ]
          },
          "metadata": {},
          "execution_count": 27
        }
      ]
    },
    {
      "cell_type": "markdown",
      "metadata": {
        "id": "gm7gkMbpjuUh"
      },
      "source": [
        "**Define the CNN model**\n",
        "\n",
        "*   2 convolutional layers (each with 32 3x3 filters)\n",
        "*   1 max pooling layer with a 2x2 filter\n",
        "*   The resulting tensor is flattened into a vector\n",
        "*   The flattened vector is put through an MLP with 1 hidden layer (128 hidden nodes)\n",
        "\n"
      ]
    },
    {
      "cell_type": "code",
      "source": [
        "from keras.models import Sequential\n",
        "from keras.layers import Conv2D\n",
        "from keras.layers import MaxPooling2D\n",
        "from keras.layers import Flatten\n",
        "from keras.layers import Dense"
      ],
      "metadata": {
        "id": "3PDTMUA_vojq"
      },
      "execution_count": 21,
      "outputs": []
    },
    {
      "cell_type": "code",
      "metadata": {
        "id": "4RB9aJy0ju59"
      },
      "source": [
        "model = Sequential()\n",
        "model.add(Conv2D(32, kernel_size =(3, 3), input_shape=(32, 32, 3),activation='relu'))\n",
        "model.add(Conv2D(32, kernel_size =(3, 3),activation='relu'))\n",
        "model.add(MaxPooling2D(pool_size=(2,2)))\n",
        "model.add(Flatten())\n",
        "model.add(Dense(128, activation='relu'))\n",
        "model.add(Dense(10,activation='softmax'))  #Activation is softmax when there are multiple outputs"
      ],
      "execution_count": 22,
      "outputs": []
    },
    {
      "cell_type": "code",
      "source": [
        "model.summary()"
      ],
      "metadata": {
        "colab": {
          "base_uri": "https://localhost:8080/"
        },
        "id": "atotCfZIunKs",
        "outputId": "afceca7d-db4f-450d-d3b7-ac1573b0ddb5"
      },
      "execution_count": 23,
      "outputs": [
        {
          "output_type": "stream",
          "name": "stdout",
          "text": [
            "Model: \"sequential\"\n",
            "_________________________________________________________________\n",
            " Layer (type)                Output Shape              Param #   \n",
            "=================================================================\n",
            " conv2d (Conv2D)             (None, 30, 30, 32)        896       \n",
            "                                                                 \n",
            " conv2d_1 (Conv2D)           (None, 28, 28, 32)        9248      \n",
            "                                                                 \n",
            " max_pooling2d (MaxPooling2  (None, 14, 14, 32)        0         \n",
            " D)                                                              \n",
            "                                                                 \n",
            " flatten (Flatten)           (None, 6272)              0         \n",
            "                                                                 \n",
            " dense (Dense)               (None, 128)               802944    \n",
            "                                                                 \n",
            " dense_1 (Dense)             (None, 10)                1290      \n",
            "                                                                 \n",
            "=================================================================\n",
            "Total params: 814378 (3.11 MB)\n",
            "Trainable params: 814378 (3.11 MB)\n",
            "Non-trainable params: 0 (0.00 Byte)\n",
            "_________________________________________________________________\n"
          ]
        }
      ]
    },
    {
      "cell_type": "code",
      "source": [
        "model.compile(loss=\"categorical_crossentropy\", optimizer=\"adam\", metrics=[\"accuracy\"])"
      ],
      "metadata": {
        "id": "8iGLmTe_uqU0"
      },
      "execution_count": 29,
      "outputs": []
    },
    {
      "cell_type": "code",
      "metadata": {
        "id": "m4rqyov4kK_K",
        "colab": {
          "base_uri": "https://localhost:8080/"
        },
        "outputId": "3c404d08-5ca6-443c-c522-1fa11d60b1f7"
      },
      "source": [
        "#Fit the model\n",
        "batch_size = 128\n",
        "epochs = 15\n",
        "model.fit(X_train, Y_train, batch_size=batch_size, epochs=epochs, validation_split=0.1)"
      ],
      "execution_count": 30,
      "outputs": [
        {
          "output_type": "stream",
          "name": "stdout",
          "text": [
            "Epoch 1/15\n",
            "352/352 [==============================] - 4s 9ms/step - loss: 1.5491 - accuracy: 0.4452 - val_loss: 1.3180 - val_accuracy: 0.5320\n",
            "Epoch 2/15\n",
            "352/352 [==============================] - 2s 7ms/step - loss: 1.2164 - accuracy: 0.5730 - val_loss: 1.1332 - val_accuracy: 0.6062\n",
            "Epoch 3/15\n",
            "352/352 [==============================] - 3s 8ms/step - loss: 1.0605 - accuracy: 0.6281 - val_loss: 1.0504 - val_accuracy: 0.6338\n",
            "Epoch 4/15\n",
            "352/352 [==============================] - 3s 7ms/step - loss: 0.9612 - accuracy: 0.6662 - val_loss: 1.0181 - val_accuracy: 0.6470\n",
            "Epoch 5/15\n",
            "352/352 [==============================] - 2s 7ms/step - loss: 0.8768 - accuracy: 0.6960 - val_loss: 0.9591 - val_accuracy: 0.6714\n",
            "Epoch 6/15\n",
            "352/352 [==============================] - 2s 7ms/step - loss: 0.8121 - accuracy: 0.7187 - val_loss: 0.9722 - val_accuracy: 0.6696\n",
            "Epoch 7/15\n",
            "352/352 [==============================] - 2s 7ms/step - loss: 0.7437 - accuracy: 0.7423 - val_loss: 0.9568 - val_accuracy: 0.6754\n",
            "Epoch 8/15\n",
            "352/352 [==============================] - 3s 7ms/step - loss: 0.6930 - accuracy: 0.7603 - val_loss: 0.9404 - val_accuracy: 0.6772\n",
            "Epoch 9/15\n",
            "352/352 [==============================] - 3s 7ms/step - loss: 0.6309 - accuracy: 0.7817 - val_loss: 0.9643 - val_accuracy: 0.6862\n",
            "Epoch 10/15\n",
            "352/352 [==============================] - 2s 7ms/step - loss: 0.5761 - accuracy: 0.8021 - val_loss: 1.0193 - val_accuracy: 0.6732\n",
            "Epoch 11/15\n",
            "352/352 [==============================] - 2s 7ms/step - loss: 0.5133 - accuracy: 0.8243 - val_loss: 1.0670 - val_accuracy: 0.6692\n",
            "Epoch 12/15\n",
            "352/352 [==============================] - 2s 7ms/step - loss: 0.4585 - accuracy: 0.8420 - val_loss: 1.0703 - val_accuracy: 0.6708\n",
            "Epoch 13/15\n",
            "352/352 [==============================] - 3s 8ms/step - loss: 0.4050 - accuracy: 0.8627 - val_loss: 1.1288 - val_accuracy: 0.6790\n",
            "Epoch 14/15\n",
            "352/352 [==============================] - 3s 7ms/step - loss: 0.3650 - accuracy: 0.8751 - val_loss: 1.2076 - val_accuracy: 0.6690\n",
            "Epoch 15/15\n",
            "352/352 [==============================] - 2s 7ms/step - loss: 0.3106 - accuracy: 0.8953 - val_loss: 1.2882 - val_accuracy: 0.6638\n"
          ]
        },
        {
          "output_type": "execute_result",
          "data": {
            "text/plain": [
              "<keras.src.callbacks.History at 0x7d2ef521e050>"
            ]
          },
          "metadata": {},
          "execution_count": 30
        }
      ]
    },
    {
      "cell_type": "code",
      "metadata": {
        "id": "8hT_J7OKkPde",
        "colab": {
          "base_uri": "https://localhost:8080/"
        },
        "outputId": "184a06d6-e4f5-4abb-e0cf-55be2ee6335b"
      },
      "source": [
        "#Evaluating the MOdel\n",
        "test_loss, test_accuracy = model.evaluate(X_test, Y_test)\n",
        "test_accuracy"
      ],
      "execution_count": 31,
      "outputs": [
        {
          "output_type": "stream",
          "name": "stdout",
          "text": [
            "313/313 [==============================] - 1s 4ms/step - loss: 1.2967 - accuracy: 0.6587\n"
          ]
        },
        {
          "output_type": "execute_result",
          "data": {
            "text/plain": [
              "0.6586999893188477"
            ]
          },
          "metadata": {},
          "execution_count": 31
        }
      ]
    },
    {
      "cell_type": "markdown",
      "source": [
        "**Accuracy of the model is 65%%**"
      ],
      "metadata": {
        "id": "TtadCYs7PLjz"
      }
    },
    {
      "cell_type": "code",
      "source": [
        "#Prediction using the model\n",
        "y_pred_cnn=model.predict(X_test)"
      ],
      "metadata": {
        "colab": {
          "base_uri": "https://localhost:8080/"
        },
        "id": "omiTVEr8PP6P",
        "outputId": "57ad29bd-a1dd-4565-d290-7a9b67e62278"
      },
      "execution_count": 32,
      "outputs": [
        {
          "output_type": "stream",
          "name": "stdout",
          "text": [
            "313/313 [==============================] - 1s 2ms/step\n"
          ]
        }
      ]
    },
    {
      "cell_type": "code",
      "source": [
        "y_pred_classes_cnn=[np.argmax(element) for element in y_pred_cnn]"
      ],
      "metadata": {
        "id": "NYcTWqlBPgZx"
      },
      "execution_count": 34,
      "outputs": []
    }
  ]
}