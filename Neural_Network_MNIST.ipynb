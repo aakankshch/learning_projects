{
  "nbformat": 4,
  "nbformat_minor": 0,
  "metadata": {
    "colab": {
      "provenance": [],
      "include_colab_link": true
    },
    "kernelspec": {
      "name": "python3",
      "display_name": "Python 3"
    },
    "language_info": {
      "name": "python"
    }
  },
  "cells": [
    {
      "cell_type": "markdown",
      "metadata": {
        "id": "view-in-github",
        "colab_type": "text"
      },
      "source": [
        "<a href=\"https://colab.research.google.com/github/aakankshch/deeplearning/blob/main/Neural_Network_MNIST.ipynb\" target=\"_parent\"><img src=\"https://colab.research.google.com/assets/colab-badge.svg\" alt=\"Open In Colab\"/></a>"
      ]
    },
    {
      "cell_type": "markdown",
      "metadata": {
        "id": "63GSckRspoZJ"
      },
      "source": [
        "# Multi-layer perceptrons with Keras\n",
        "\n",
        "In this demo, we will train and test a multi-layer perceptron model on the MNIST handwritten digits dataset using Keras."
      ]
    },
    {
      "cell_type": "markdown",
      "metadata": {
        "id": "8aieNmVBO2II"
      },
      "source": [
        "## 1. Load dataset\n",
        "\n",
        "Like sklearn, Keras also provides an API to download and load the MNIST dataset. The following code snippet will download the data, load it into memory, and convert pixel values to [0, 1]."
      ]
    },
    {
      "cell_type": "code",
      "source": [
        "from tensorflow import keras"
      ],
      "metadata": {
        "id": "S_gM_ldMFtj5"
      },
      "execution_count": null,
      "outputs": []
    },
    {
      "cell_type": "code",
      "metadata": {
        "id": "N8WM9P0lLYas",
        "colab": {
          "base_uri": "https://localhost:8080/"
        },
        "outputId": "47774e0f-5902-4b10-e873-3f0958f7e0fd"
      },
      "source": [
        "from keras.datasets import mnist\n",
        "(X_train, Y_train), (X_test, Y_test) = mnist.load_data()\n",
        "X_train = X_train.astype('float32') / 255\n",
        "X_test = X_test.astype('float32') / 255"
      ],
      "execution_count": null,
      "outputs": [
        {
          "output_type": "stream",
          "name": "stdout",
          "text": [
            "Downloading data from https://storage.googleapis.com/tensorflow/tf-keras-datasets/mnist.npz\n",
            "11490434/11490434 [==============================] - 0s 0us/step\n"
          ]
        }
      ]
    },
    {
      "cell_type": "code",
      "source": [
        "X_train.shape"
      ],
      "metadata": {
        "colab": {
          "base_uri": "https://localhost:8080/"
        },
        "id": "y8LS7pvvFHd7",
        "outputId": "37869709-c3dd-4376-83b3-02d4f3312364"
      },
      "execution_count": null,
      "outputs": [
        {
          "output_type": "execute_result",
          "data": {
            "text/plain": [
              "(60000, 28, 28)"
            ]
          },
          "metadata": {},
          "execution_count": 2
        }
      ]
    },
    {
      "cell_type": "code",
      "source": [
        "Y_train.shape"
      ],
      "metadata": {
        "colab": {
          "base_uri": "https://localhost:8080/"
        },
        "id": "d3bIvdTJH1cq",
        "outputId": "e405d2ac-7b97-4d1c-d60a-9f484c4bd445"
      },
      "execution_count": null,
      "outputs": [
        {
          "output_type": "execute_result",
          "data": {
            "text/plain": [
              "(60000, 10)"
            ]
          },
          "metadata": {},
          "execution_count": 17
        }
      ]
    },
    {
      "cell_type": "markdown",
      "metadata": {
        "id": "j5oSsHDyKdOV"
      },
      "source": [
        "## 2. Flatten the inputs into vectors\n",
        "\n",
        "When we load the data with Keras, the images are not flattened. So we flatten them into vectors to train with an MLP model."
      ]
    },
    {
      "cell_type": "code",
      "metadata": {
        "id": "FMW07LxNKkcG"
      },
      "source": [
        "X_train = X_train.reshape(X_train.shape[0],784)\n",
        "X_test = X_test.reshape(X_test.shape[0],784)"
      ],
      "execution_count": null,
      "outputs": []
    },
    {
      "cell_type": "code",
      "source": [
        "X_train.shape"
      ],
      "metadata": {
        "colab": {
          "base_uri": "https://localhost:8080/"
        },
        "id": "rMIOzQniFXj1",
        "outputId": "f35c4951-3628-42cd-9c32-a7a085c8e28c"
      },
      "execution_count": null,
      "outputs": [
        {
          "output_type": "execute_result",
          "data": {
            "text/plain": [
              "(60000, 784)"
            ]
          },
          "metadata": {},
          "execution_count": 4
        }
      ]
    },
    {
      "cell_type": "markdown",
      "metadata": {
        "id": "9CpvkubAO-pE"
      },
      "source": [
        "## 3. Convert label vectors into one-hot encodings\n",
        "\n",
        "When using Keras for classification, the labels have to be converted into one-hot encoding vectors. We can do this using the [to_categorial](https://www.tensorflow.org/api_docs/python/tf/keras/utils/to_categorical) method."
      ]
    },
    {
      "cell_type": "code",
      "metadata": {
        "id": "0rPJrL4xL8rh"
      },
      "source": [
        "#Labels are outputs\n",
        "num_classes=10\n",
        "Y_train = keras.utils.to_categorical(Y_train, num_classes)\n",
        "Y_test = keras.utils.to_categorical(Y_test, num_classes)"
      ],
      "execution_count": null,
      "outputs": []
    },
    {
      "cell_type": "code",
      "source": [
        "Y_test"
      ],
      "metadata": {
        "colab": {
          "base_uri": "https://localhost:8080/"
        },
        "id": "RdM31aWFFz8_",
        "outputId": "2c086f4c-f7b0-410b-b023-10c43afa99c5"
      },
      "execution_count": null,
      "outputs": [
        {
          "output_type": "execute_result",
          "data": {
            "text/plain": [
              "array([[0., 0., 0., ..., 1., 0., 0.],\n",
              "       [0., 0., 1., ..., 0., 0., 0.],\n",
              "       [0., 1., 0., ..., 0., 0., 0.],\n",
              "       ...,\n",
              "       [0., 0., 0., ..., 0., 0., 0.],\n",
              "       [0., 0., 0., ..., 0., 0., 0.],\n",
              "       [0., 0., 0., ..., 0., 0., 0.]], dtype=float32)"
            ]
          },
          "metadata": {},
          "execution_count": 7
        }
      ]
    },
    {
      "cell_type": "markdown",
      "metadata": {
        "id": "Qo4RjIAaPGxa"
      },
      "source": [
        "## 4. Define the MLP model\n",
        "\n",
        "We can define an MLP model using a [Sequential](https://keras.io/api/models/sequential/) model and the [Dense](https://keras.io/api/layers/core_layers/dense/) layers. In most cases, we will define a model as a Sequential model, and then add layers to it one-by-one."
      ]
    },
    {
      "cell_type": "code",
      "source": [
        "from keras.models import Sequential\n",
        "from keras.layers import Dense"
      ],
      "metadata": {
        "id": "Pa3sQNLRG2rc"
      },
      "execution_count": null,
      "outputs": []
    },
    {
      "cell_type": "code",
      "metadata": {
        "id": "XElZvngXCsT6"
      },
      "source": [
        "model = keras.Sequential()\n",
        "model.add(Dense(50, activation = 'relu'))\n",
        "model.add(Dense(50, activation = 'relu'))\n",
        "model.add(Dense(10, activation = 'softmax')) #Activation is softmax when there is multiple outputs"
      ],
      "execution_count": null,
      "outputs": []
    },
    {
      "cell_type": "markdown",
      "metadata": {
        "id": "pZONj3oJJcZZ"
      },
      "source": [
        "## 5. Compile the model\n",
        "\n",
        "Before training a Keras model, we need to compile it to set up all the options for training, such as loss function, optimizer, and evaluation metrics. Here we will use cross entropy loss and the SGD optimizer. Our evaluation metric will be accuracy."
      ]
    },
    {
      "cell_type": "code",
      "metadata": {
        "id": "c25OV_XaJgIT"
      },
      "source": [
        "model.compile(loss=\"categorical_crossentropy\", optimizer=\"SGD\", metrics=[\"accuracy\"])"
      ],
      "execution_count": null,
      "outputs": []
    },
    {
      "cell_type": "markdown",
      "metadata": {
        "id": "e2XuB7yxPMiK"
      },
      "source": [
        "## 6. Train the model\n",
        "\n",
        "Now we can train the model using the `fit(...)` method. We can specify the number of epochs and batch size for training."
      ]
    },
    {
      "cell_type": "code",
      "source": [
        "batch_size = 128\n",
        "epochs = 15"
      ],
      "metadata": {
        "id": "BA0XGJltHQys"
      },
      "execution_count": null,
      "outputs": []
    },
    {
      "cell_type": "code",
      "metadata": {
        "id": "O4d4eFVnFY8R",
        "colab": {
          "base_uri": "https://localhost:8080/"
        },
        "outputId": "324b8b84-97a1-4d27-9652-d0b6406c9958"
      },
      "source": [
        "model.fit(X_train, Y_train, batch_size=batch_size, epochs=epochs, validation_split=0.1)"
      ],
      "execution_count": null,
      "outputs": [
        {
          "output_type": "stream",
          "name": "stdout",
          "text": [
            "Epoch 1/15\n",
            "422/422 [==============================] - 2s 3ms/step - loss: 1.6283 - accuracy: 0.5208 - val_loss: 0.8608 - val_accuracy: 0.8057\n",
            "Epoch 2/15\n",
            "422/422 [==============================] - 1s 3ms/step - loss: 0.6842 - accuracy: 0.8272 - val_loss: 0.4597 - val_accuracy: 0.8863\n",
            "Epoch 3/15\n",
            "422/422 [==============================] - 1s 3ms/step - loss: 0.4781 - accuracy: 0.8719 - val_loss: 0.3582 - val_accuracy: 0.9027\n",
            "Epoch 4/15\n",
            "422/422 [==============================] - 1s 3ms/step - loss: 0.4065 - accuracy: 0.8874 - val_loss: 0.3148 - val_accuracy: 0.9130\n",
            "Epoch 5/15\n",
            "422/422 [==============================] - 1s 3ms/step - loss: 0.3694 - accuracy: 0.8964 - val_loss: 0.2895 - val_accuracy: 0.9163\n",
            "Epoch 6/15\n",
            "422/422 [==============================] - 2s 4ms/step - loss: 0.3448 - accuracy: 0.9022 - val_loss: 0.2757 - val_accuracy: 0.9195\n",
            "Epoch 7/15\n",
            "422/422 [==============================] - 1s 3ms/step - loss: 0.3269 - accuracy: 0.9068 - val_loss: 0.2617 - val_accuracy: 0.9233\n",
            "Epoch 8/15\n",
            "422/422 [==============================] - 1s 3ms/step - loss: 0.3119 - accuracy: 0.9106 - val_loss: 0.2486 - val_accuracy: 0.9298\n",
            "Epoch 9/15\n",
            "422/422 [==============================] - 1s 3ms/step - loss: 0.2994 - accuracy: 0.9139 - val_loss: 0.2404 - val_accuracy: 0.9302\n",
            "Epoch 10/15\n",
            "422/422 [==============================] - 1s 3ms/step - loss: 0.2886 - accuracy: 0.9163 - val_loss: 0.2311 - val_accuracy: 0.9355\n",
            "Epoch 11/15\n",
            "422/422 [==============================] - 1s 3ms/step - loss: 0.2786 - accuracy: 0.9196 - val_loss: 0.2233 - val_accuracy: 0.9355\n",
            "Epoch 12/15\n",
            "422/422 [==============================] - 1s 3ms/step - loss: 0.2696 - accuracy: 0.9224 - val_loss: 0.2187 - val_accuracy: 0.9372\n",
            "Epoch 13/15\n",
            "422/422 [==============================] - 1s 3ms/step - loss: 0.2612 - accuracy: 0.9247 - val_loss: 0.2123 - val_accuracy: 0.9387\n",
            "Epoch 14/15\n",
            "422/422 [==============================] - 1s 3ms/step - loss: 0.2536 - accuracy: 0.9276 - val_loss: 0.2041 - val_accuracy: 0.9423\n",
            "Epoch 15/15\n",
            "422/422 [==============================] - 2s 4ms/step - loss: 0.2463 - accuracy: 0.9293 - val_loss: 0.1977 - val_accuracy: 0.9413\n"
          ]
        },
        {
          "output_type": "execute_result",
          "data": {
            "text/plain": [
              "<keras.src.callbacks.History at 0x7f24583b3e80>"
            ]
          },
          "metadata": {},
          "execution_count": 15
        }
      ]
    },
    {
      "cell_type": "markdown",
      "metadata": {
        "id": "EIMxsvj7PPNB"
      },
      "source": [
        "## 7. Evaluate the trained model on test set\n",
        "\n",
        "Finally, we can compute the model accuracy on the test set."
      ]
    },
    {
      "cell_type": "code",
      "metadata": {
        "id": "K1cMOdJAG1-C",
        "colab": {
          "base_uri": "https://localhost:8080/"
        },
        "outputId": "85d9f48f-ade2-4ebe-f3c9-e0590c62b84f"
      },
      "source": [
        "score = model.evaluate(X_test, Y_test, verbose=0)\n",
        "print(\"Test accuracy:\", score[1])"
      ],
      "execution_count": null,
      "outputs": [
        {
          "output_type": "stream",
          "name": "stdout",
          "text": [
            "Test accuracy: 0.9330999851226807\n"
          ]
        }
      ]
    }
  ]
}