{
  "nbformat": 4,
  "nbformat_minor": 0,
  "metadata": {
    "colab": {
      "provenance": [],
      "include_colab_link": true
    },
    "kernelspec": {
      "name": "python3",
      "display_name": "Python 3"
    },
    "language_info": {
      "name": "python"
    }
  },
  "cells": [
    {
      "cell_type": "markdown",
      "metadata": {
        "id": "view-in-github",
        "colab_type": "text"
      },
      "source": [
        "<a href=\"https://colab.research.google.com/github/aakankshch/deeplearning/blob/main/CNN_MNIST.ipynb\" target=\"_parent\"><img src=\"https://colab.research.google.com/assets/colab-badge.svg\" alt=\"Open In Colab\"/></a>"
      ]
    },
    {
      "cell_type": "code",
      "source": [
        "from tensorflow import keras\n",
        "from keras.datasets import mnist"
      ],
      "metadata": {
        "id": "S_gM_ldMFtj5"
      },
      "execution_count": 2,
      "outputs": []
    },
    {
      "cell_type": "code",
      "metadata": {
        "id": "N8WM9P0lLYas",
        "colab": {
          "base_uri": "https://localhost:8080/"
        },
        "outputId": "482109bf-38a2-47a1-db07-e062deffaa67"
      },
      "source": [
        "#Loading the data and converting pixel values to [0,1]\n",
        "(X_train, Y_train), (X_test, Y_test) = mnist.load_data()\n",
        "X_train = X_train.astype('float32') / 255\n",
        "X_test = X_test.astype('float32') / 255"
      ],
      "execution_count": 3,
      "outputs": [
        {
          "output_type": "stream",
          "name": "stdout",
          "text": [
            "Downloading data from https://storage.googleapis.com/tensorflow/tf-keras-datasets/mnist.npz\n",
            "11490434/11490434 [==============================] - 0s 0us/step\n"
          ]
        }
      ]
    },
    {
      "cell_type": "code",
      "source": [
        "print(X_train.shape,Y_train.shape)"
      ],
      "metadata": {
        "colab": {
          "base_uri": "https://localhost:8080/"
        },
        "id": "y8LS7pvvFHd7",
        "outputId": "318a4a1b-c472-4ff3-d55d-fb23e082e725"
      },
      "execution_count": 4,
      "outputs": [
        {
          "output_type": "stream",
          "name": "stdout",
          "text": [
            "(60000, 28, 28) (60000,)\n"
          ]
        }
      ]
    },
    {
      "cell_type": "code",
      "metadata": {
        "id": "FMW07LxNKkcG"
      },
      "source": [
        "#Flatten the images into vectors\n",
        "X_train = X_train.reshape(X_train.shape[0],784)\n",
        "X_test = X_test.reshape(X_test.shape[0],784)"
      ],
      "execution_count": 7,
      "outputs": []
    },
    {
      "cell_type": "code",
      "source": [
        "X_train.shape"
      ],
      "metadata": {
        "colab": {
          "base_uri": "https://localhost:8080/"
        },
        "id": "rMIOzQniFXj1",
        "outputId": "95d4e394-b6ab-4528-d608-f687c0a51bd6"
      },
      "execution_count": 8,
      "outputs": [
        {
          "output_type": "execute_result",
          "data": {
            "text/plain": [
              "(60000, 784)"
            ]
          },
          "metadata": {},
          "execution_count": 8
        }
      ]
    },
    {
      "cell_type": "code",
      "metadata": {
        "id": "0rPJrL4xL8rh"
      },
      "source": [
        "#converting the labels into one hot encoding vectors\n",
        "num_classes=10\n",
        "Y_train = keras.utils.to_categorical(Y_train, num_classes)\n",
        "Y_test = keras.utils.to_categorical(Y_test, num_classes)"
      ],
      "execution_count": 9,
      "outputs": []
    },
    {
      "cell_type": "code",
      "source": [
        "Y_test"
      ],
      "metadata": {
        "colab": {
          "base_uri": "https://localhost:8080/"
        },
        "id": "RdM31aWFFz8_",
        "outputId": "0d8f4696-2e6e-4e85-9bd8-03fd16291e1a"
      },
      "execution_count": 10,
      "outputs": [
        {
          "output_type": "execute_result",
          "data": {
            "text/plain": [
              "array([[0., 0., 0., ..., 1., 0., 0.],\n",
              "       [0., 0., 1., ..., 0., 0., 0.],\n",
              "       [0., 1., 0., ..., 0., 0., 0.],\n",
              "       ...,\n",
              "       [0., 0., 0., ..., 0., 0., 0.],\n",
              "       [0., 0., 0., ..., 0., 0., 0.],\n",
              "       [0., 0., 0., ..., 0., 0., 0.]], dtype=float32)"
            ]
          },
          "metadata": {},
          "execution_count": 10
        }
      ]
    },
    {
      "cell_type": "code",
      "source": [
        "from keras.models import Sequential\n",
        "from keras.layers import Dense"
      ],
      "metadata": {
        "id": "Pa3sQNLRG2rc"
      },
      "execution_count": 11,
      "outputs": []
    },
    {
      "cell_type": "code",
      "metadata": {
        "id": "XElZvngXCsT6"
      },
      "source": [
        "#Defining the model\n",
        "model = keras.Sequential()\n",
        "model.add(Dense(50, activation = 'relu'))\n",
        "model.add(Dense(50, activation = 'relu'))\n",
        "model.add(Dense(10, activation = 'softmax')) #Activation is softmax when there is multiple outputs"
      ],
      "execution_count": 12,
      "outputs": []
    },
    {
      "cell_type": "code",
      "metadata": {
        "id": "c25OV_XaJgIT"
      },
      "source": [
        "#Compile the model\n",
        "model.compile(loss=\"categorical_crossentropy\", optimizer=\"SGD\", metrics=[\"accuracy\"])"
      ],
      "execution_count": 13,
      "outputs": []
    },
    {
      "cell_type": "code",
      "metadata": {
        "id": "O4d4eFVnFY8R",
        "colab": {
          "base_uri": "https://localhost:8080/"
        },
        "outputId": "c698576e-cb8d-4b27-c58d-d4fa1552332a"
      },
      "source": [
        "#Training the model\n",
        "batch_size = 128\n",
        "epochs = 15\n",
        "model.fit(X_train, Y_train, batch_size=batch_size, epochs=epochs, validation_split=0.1)"
      ],
      "execution_count": 14,
      "outputs": [
        {
          "output_type": "stream",
          "name": "stdout",
          "text": [
            "Epoch 1/15\n",
            "422/422 [==============================] - 3s 6ms/step - loss: 1.4639 - accuracy: 0.6017 - val_loss: 0.6881 - val_accuracy: 0.8558\n",
            "Epoch 2/15\n",
            "422/422 [==============================] - 2s 5ms/step - loss: 0.5804 - accuracy: 0.8529 - val_loss: 0.3958 - val_accuracy: 0.9028\n",
            "Epoch 3/15\n",
            "422/422 [==============================] - 1s 3ms/step - loss: 0.4299 - accuracy: 0.8826 - val_loss: 0.3236 - val_accuracy: 0.9128\n",
            "Epoch 4/15\n",
            "422/422 [==============================] - 1s 3ms/step - loss: 0.3754 - accuracy: 0.8948 - val_loss: 0.2916 - val_accuracy: 0.9183\n",
            "Epoch 5/15\n",
            "422/422 [==============================] - 1s 3ms/step - loss: 0.3450 - accuracy: 0.9019 - val_loss: 0.2694 - val_accuracy: 0.9227\n",
            "Epoch 6/15\n",
            "422/422 [==============================] - 1s 3ms/step - loss: 0.3235 - accuracy: 0.9076 - val_loss: 0.2544 - val_accuracy: 0.9262\n",
            "Epoch 7/15\n",
            "422/422 [==============================] - 1s 3ms/step - loss: 0.3068 - accuracy: 0.9126 - val_loss: 0.2420 - val_accuracy: 0.9308\n",
            "Epoch 8/15\n",
            "422/422 [==============================] - 1s 4ms/step - loss: 0.2934 - accuracy: 0.9156 - val_loss: 0.2324 - val_accuracy: 0.9340\n",
            "Epoch 9/15\n",
            "422/422 [==============================] - 2s 5ms/step - loss: 0.2817 - accuracy: 0.9188 - val_loss: 0.2249 - val_accuracy: 0.9357\n",
            "Epoch 10/15\n",
            "422/422 [==============================] - 2s 6ms/step - loss: 0.2711 - accuracy: 0.9226 - val_loss: 0.2170 - val_accuracy: 0.9382\n",
            "Epoch 11/15\n",
            "422/422 [==============================] - 1s 3ms/step - loss: 0.2612 - accuracy: 0.9252 - val_loss: 0.2097 - val_accuracy: 0.9382\n",
            "Epoch 12/15\n",
            "422/422 [==============================] - 1s 3ms/step - loss: 0.2526 - accuracy: 0.9273 - val_loss: 0.2042 - val_accuracy: 0.9413\n",
            "Epoch 13/15\n",
            "422/422 [==============================] - 1s 3ms/step - loss: 0.2443 - accuracy: 0.9301 - val_loss: 0.1967 - val_accuracy: 0.9447\n",
            "Epoch 14/15\n",
            "422/422 [==============================] - 1s 3ms/step - loss: 0.2368 - accuracy: 0.9323 - val_loss: 0.1914 - val_accuracy: 0.9445\n",
            "Epoch 15/15\n",
            "422/422 [==============================] - 1s 3ms/step - loss: 0.2292 - accuracy: 0.9345 - val_loss: 0.1860 - val_accuracy: 0.9457\n"
          ]
        },
        {
          "output_type": "execute_result",
          "data": {
            "text/plain": [
              "<keras.src.callbacks.History at 0x7fb27471fcd0>"
            ]
          },
          "metadata": {},
          "execution_count": 14
        }
      ]
    },
    {
      "cell_type": "code",
      "metadata": {
        "id": "K1cMOdJAG1-C",
        "colab": {
          "base_uri": "https://localhost:8080/"
        },
        "outputId": "c1254ffe-f8ed-42c5-be9b-a83c1c958e9b"
      },
      "source": [
        "#Evaluate the model\n",
        "score = model.evaluate(X_test, Y_test, verbose=0)\n",
        "print(\"Test accuracy:\", score[1])"
      ],
      "execution_count": 15,
      "outputs": [
        {
          "output_type": "stream",
          "name": "stdout",
          "text": [
            "Test accuracy: 0.939300000667572\n"
          ]
        }
      ]
    }
  ]
}